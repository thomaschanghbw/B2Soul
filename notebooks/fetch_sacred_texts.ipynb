{
 "cells": [
  {
   "cell_type": "code",
   "execution_count": 22,
   "metadata": {},
   "outputs": [],
   "source": [
    "import requests\n",
    "from bs4 import BeautifulSoup\n",
    "import pinecone\n",
    "from sentence_transformers import SentenceTransformer\n",
    "from dotenv import load_dotenv\n",
    "import os\n",
    "\n",
    "load_dotenv() \n",
    "\n",
    "def fetch_text(url):\n",
    "    response = requests.get(url)\n",
    "    soup = BeautifulSoup(response.text, 'html.parser')\n",
    "    return soup.get_text()\n",
    "\n",
    "def chunk_text(text):\n",
    "    return text.split('\\n')"
   ]
  },
  {
   "cell_type": "code",
   "execution_count": 35,
   "metadata": {},
   "outputs": [
    {
     "name": "stdout",
     "output_type": "stream",
     "text": [
      "Bible text length: 4606957 characters\n",
      "Number of Bible chunks: 31105\n",
      "Sample Bible verses:\n",
      "- ('1 Samuel 30:25', 'And it was [so] from that day forward, that he made it a statute and an ordinance for Israel unto this day.')\n",
      "- ('Numbers 15:15', 'One ordinance [shall be both] for you of the congregation, and also for the stranger that sojourneth [with you], an ordinance for ever in your generations: as ye [are], so shall the stranger be before the LORD.')\n",
      "- ('Luke 2:40', 'And the child grew, and waxed strong in spirit, filled with wisdom: and the grace of God was upon him.')\n"
     ]
    }
   ],
   "source": [
    "import random\n",
    "\n",
    "def get_bible_verses():\n",
    "    bible_url = 'https://openbible.com/textfiles/kjv.txt'\n",
    "    bible_text = fetch_text(bible_url)\n",
    "    print(f'Bible text length: {len(bible_text)} characters')\n",
    "    bible_chunks = chunk_text(bible_text)\n",
    "    print(f'Number of Bible chunks: {len(bible_chunks)}')\n",
    "    \n",
    "    parsed_verses = []\n",
    "    for chunk in bible_chunks[2:]:  # Skip the first two lines\n",
    "        parts = chunk.split('\\t', 1)\n",
    "        if len(parts) == 2:\n",
    "            verse, text = parts\n",
    "            parsed_verses.append((verse.strip(), text.strip()))\n",
    "    \n",
    "    print('Sample Bible verses:')\n",
    "    sample_verses = random.sample(parsed_verses, 3)\n",
    "    for verse in sample_verses:\n",
    "        print(f'- {verse}')\n",
    "    \n",
    "    return parsed_verses\n",
    "\n",
    "bible_verses = get_bible_verses()"
   ]
  },
  {
   "cell_type": "code",
   "execution_count": 40,
   "metadata": {},
   "outputs": [
    {
     "name": "stdout",
     "output_type": "stream",
     "text": [
      "Muslim text length: 28166 characters\n",
      "Number of Muslim chunks: 858\n",
      "Sample Muslim chunk: \n",
      "First 5 Muslim chunks:\n",
      "\n",
      "---\n",
      "\n",
      "---\n",
      "\n",
      "---\n",
      "\n",
      "---\n",
      "\n",
      "---\n"
     ]
    }
   ],
   "source": [
    "def get_muslim_text():\n",
    "    muslim_url = 'https://www.sacred-texts.com/isl/quran.htm'\n",
    "    muslim_text = fetch_text(muslim_url)\n",
    "    print(f'Muslim text length: {len(muslim_text)} characters')\n",
    "    return muslim_text\n",
    "\n",
    "def chunk_muslim_text(text):\n",
    "    chunks = chunk_text(text)\n",
    "    print(f'Number of Muslim chunks: {len(chunks)}')\n",
    "    if chunks:\n",
    "        print(f'Sample Muslim chunk: {chunks[0]}')\n",
    "    return chunks\n",
    "\n",
    "muslim_text = get_muslim_text()\n",
    "muslim_chunks = chunk_muslim_text(muslim_text)\n",
    "\n",
    "print('First 5 Muslim chunks:')\n",
    "for chunk in muslim_chunks[:5]:\n",
    "    print(chunk)\n",
    "    print('---')"
   ]
  },
  {
   "cell_type": "code",
   "execution_count": 11,
   "metadata": {},
   "outputs": [
    {
     "name": "stdout",
     "output_type": "stream",
     "text": [
      "Pinecone API key: 88884...7aa7d\n"
     ]
    },
    {
     "ename": "NameError",
     "evalue": "name 'pinecone' is not defined",
     "output_type": "error",
     "traceback": [
      "\u001b[0;31m---------------------------------------------------------------------------\u001b[0m",
      "\u001b[0;31mNameError\u001b[0m                                 Traceback (most recent call last)",
      "Cell \u001b[0;32mIn[11], line 11\u001b[0m\n\u001b[1;32m      7\u001b[0m \u001b[38;5;28mprint\u001b[39m(\u001b[38;5;124mf\u001b[39m\u001b[38;5;124m'\u001b[39m\u001b[38;5;124mPinecone API key: \u001b[39m\u001b[38;5;132;01m{\u001b[39;00mpinecone_api_key[:\u001b[38;5;241m5\u001b[39m]\u001b[38;5;132;01m}\u001b[39;00m\u001b[38;5;124m...\u001b[39m\u001b[38;5;132;01m{\u001b[39;00mpinecone_api_key[\u001b[38;5;241m-\u001b[39m\u001b[38;5;241m5\u001b[39m:]\u001b[38;5;132;01m}\u001b[39;00m\u001b[38;5;124m'\u001b[39m)\n\u001b[1;32m     10\u001b[0m \u001b[38;5;66;03m# Initialize Pinecone (replace with your actual API key and environment)\u001b[39;00m\n\u001b[0;32m---> 11\u001b[0m \u001b[43mpinecone\u001b[49m\u001b[38;5;241m.\u001b[39minit(api_key\u001b[38;5;241m=\u001b[39m\u001b[38;5;124m'\u001b[39m\u001b[38;5;124mYOUR_PINECONE_API_KEY\u001b[39m\u001b[38;5;124m'\u001b[39m, environment\u001b[38;5;241m=\u001b[39m\u001b[38;5;124m'\u001b[39m\u001b[38;5;124mYOUR_PINECONE_ENVIRONMENT\u001b[39m\u001b[38;5;124m'\u001b[39m)\n\u001b[1;32m     12\u001b[0m index_name \u001b[38;5;241m=\u001b[39m \u001b[38;5;124m'\u001b[39m\u001b[38;5;124mreligious_texts\u001b[39m\u001b[38;5;124m'\u001b[39m\n\u001b[1;32m     14\u001b[0m \u001b[38;5;66;03m# Create index if it doesn't exist\u001b[39;00m\n",
      "\u001b[0;31mNameError\u001b[0m: name 'pinecone' is not defined"
     ]
    }
   ],
   "source": [
    "\n",
    "# Get Pinecone API key from environment variable\n",
    "pinecone_api_key = os.environ.get('PINECONE_API_KEY')\n",
    "\n",
    "if not pinecone_api_key:\n",
    "    raise ValueError('PINECONE_API_KEY environment variable is not set')\n",
    "\n",
    "print(f'Pinecone API key: {pinecone_api_key[:5]}...{pinecone_api_key[-5:]}')\n",
    "\n",
    "\n",
    "# Initialize Pinecone (replace with your actual API key and environment)\n",
    "pinecone.init(api_key='YOUR_PINECONE_API_KEY', environment='YOUR_PINECONE_ENVIRONMENT')\n",
    "index_name = 'religious_texts'\n",
    "\n",
    "# Create index if it doesn't exist\n",
    "if index_name not in pinecone.list_indexes():\n",
    "    pinecone.create_index(index_name, dimension=384)  # Adjust dimension based on your embedding model\n",
    "\n",
    "# Connect to the index\n",
    "index = pinecone.Index(index_name)\n",
    "\n",
    "# Initialize the embedding model\n",
    "model = SentenceTransformer('all-MiniLM-L6-v2')\n",
    "\n",
    "# Prepare and store data\n",
    "for source, text in [('Bible', bible_text), ('Buddhist', buddhist_text), ('Muslim', muslim_text)]:\n",
    "    chunks = chunk_text(text)\n",
    "    for i, chunk in enumerate(chunks):\n",
    "        # Create embedding\n",
    "        embedding = model.encode(chunk).tolist()\n",
    "\n",
    "        # Prepare metadata\n",
    "        metadata = {\n",
    "            'source': source,\n",
    "            'chunk_id': i\n",
    "        }\n",
    "\n",
    "        # Upsert to Pinecone\n",
    "        index.upsert(vectors=[(f'{source}_{i}', embedding, metadata)])\n",
    "\n",
    "print('Sacred texts have been retrieved, chunked, and stored in the Pinecone database.')\n",
    "\n"
   ]
  },
  {
   "cell_type": "code",
   "execution_count": null,
   "metadata": {},
   "outputs": [],
   "source": []
  },
  {
   "cell_type": "code",
   "execution_count": null,
   "metadata": {},
   "outputs": [],
   "source": []
  },
  {
   "cell_type": "code",
   "execution_count": null,
   "metadata": {},
   "outputs": [],
   "source": []
  },
  {
   "cell_type": "code",
   "execution_count": null,
   "metadata": {},
   "outputs": [],
   "source": []
  },
  {
   "cell_type": "code",
   "execution_count": null,
   "metadata": {},
   "outputs": [],
   "source": []
  },
  {
   "cell_type": "code",
   "execution_count": null,
   "metadata": {},
   "outputs": [],
   "source": []
  },
  {
   "cell_type": "code",
   "execution_count": null,
   "metadata": {},
   "outputs": [],
   "source": []
  },
  {
   "cell_type": "code",
   "execution_count": null,
   "metadata": {},
   "outputs": [],
   "source": []
  },
  {
   "cell_type": "code",
   "execution_count": null,
   "metadata": {},
   "outputs": [],
   "source": []
  },
  {
   "cell_type": "code",
   "execution_count": null,
   "metadata": {},
   "outputs": [],
   "source": []
  }
 ],
 "metadata": {
  "kernelspec": {
   "display_name": "Python 3 (ipykernel)",
   "language": "python",
   "name": "python3"
  },
  "language_info": {
   "codemirror_mode": {
    "name": "ipython",
    "version": 3
   },
   "file_extension": ".py",
   "mimetype": "text/x-python",
   "name": "python",
   "nbconvert_exporter": "python",
   "pygments_lexer": "ipython3",
   "version": "3.11.2"
  }
 },
 "nbformat": 4,
 "nbformat_minor": 2
}
