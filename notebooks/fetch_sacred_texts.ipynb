{
 "cells": [
  {
   "cell_type": "code",
   "execution_count": 69,
   "metadata": {},
   "outputs": [],
   "source": [
    "import requests\n",
    "from bs4 import BeautifulSoup\n",
    "import pinecone\n",
    "from sentence_transformers import SentenceTransformer\n",
    "from dotenv import load_dotenv\n",
    "import os\n",
    "\n",
    "load_dotenv() \n",
    "\n",
    "def fetch_text(url):\n",
    "    response = requests.get(url)\n",
    "    soup = BeautifulSoup(response.text, 'html.parser')\n",
    "    return soup.get_text()\n",
    "\n",
    "def chunk_text(text):\n",
    "    return text.split('\\n')"
   ]
  },
  {
   "cell_type": "code",
   "execution_count": null,
   "metadata": {},
   "outputs": [],
   "source": []
  },
  {
   "cell_type": "code",
   "execution_count": null,
   "metadata": {},
   "outputs": [],
   "source": [
    "import openai\n",
    "from openai import OpenAI\n",
    "import os\n",
    "\n",
    "# Set up OpenAI API key\n",
    "client = OpenAI(api_key=os.getenv(\"OPENAI_API_KEY\"))\n",
    "\n",
    "def generate_embeddings(text_tuples):\n",
    "    embeddings = []\n",
    "    \n",
    "    for metadata, content in text_tuples:\n",
    "        # Combine metadata and content\n",
    "        combined_text = f\"{metadata} {content}\"\n",
    "        \n",
    "        try:\n",
    "            # Generate embedding using OpenAI's API\n",
    "            response = client.embeddings.create(\n",
    "                model=\"text-embedding-ada-002\",\n",
    "                input=combined_text\n",
    "            )\n",
    "            \n",
    "            # Extract the embedding from the response\n",
    "            embedding = response.data[0].embedding\n",
    "            embeddings.append(embedding)\n",
    "        except Exception as e:\n",
    "            print(f\"Error generating embedding for {metadata}: {str(e)}\")\n",
    "    \n",
    "    return embeddings\n"
   ]
  },
  {
   "cell_type": "markdown",
   "metadata": {},
   "source": [
    "# Christianity"
   ]
  },
  {
   "cell_type": "code",
   "execution_count": 35,
   "metadata": {},
   "outputs": [
    {
     "name": "stdout",
     "output_type": "stream",
     "text": [
      "Bible text length: 4606957 characters\n",
      "Number of Bible chunks: 31105\n",
      "Sample Bible verses:\n",
      "- ('1 Samuel 30:25', 'And it was [so] from that day forward, that he made it a statute and an ordinance for Israel unto this day.')\n",
      "- ('Numbers 15:15', 'One ordinance [shall be both] for you of the congregation, and also for the stranger that sojourneth [with you], an ordinance for ever in your generations: as ye [are], so shall the stranger be before the LORD.')\n",
      "- ('Luke 2:40', 'And the child grew, and waxed strong in spirit, filled with wisdom: and the grace of God was upon him.')\n"
     ]
    }
   ],
   "source": [
    "import random\n",
    "\n",
    "def get_bible_verses():\n",
    "    bible_url = 'https://openbible.com/textfiles/kjv.txt'\n",
    "    bible_text = fetch_text(bible_url)\n",
    "    print(f'Bible text length: {len(bible_text)} characters')\n",
    "    bible_chunks = chunk_text(bible_text)\n",
    "    print(f'Number of Bible chunks: {len(bible_chunks)}')\n",
    "    \n",
    "    parsed_verses = []\n",
    "    for chunk in bible_chunks[2:]:  # Skip the first two lines\n",
    "        parts = chunk.split('\\t', 1)\n",
    "        if len(parts) == 2:\n",
    "            verse, text = parts\n",
    "            parsed_verses.append((verse.strip(), text.strip()))\n",
    "    \n",
    "    print('Sample Bible verses:')\n",
    "    sample_verses = random.sample(parsed_verses, 3)\n",
    "    for verse in sample_verses:\n",
    "        print(f'- {verse}')\n",
    "    \n",
    "    return parsed_verses\n",
    "\n",
    "bible_verses = get_bible_verses()"
   ]
  },
  {
   "cell_type": "markdown",
   "metadata": {},
   "source": [
    "# Islam "
   ]
  },
  {
   "cell_type": "code",
   "execution_count": 65,
   "metadata": {},
   "outputs": [
    {
     "name": "stdout",
     "output_type": "stream",
     "text": [
      "('1:1', 'In the name of God, The Most Gracious, The Dispenser of Grace:')\n",
      "('1:2', 'All praise is due to God alone, the Sustainer of all the worlds,')\n",
      "('1:3', 'The Most Gracious, the Dispenser of Grace,')\n",
      "('1:4', 'Lord of the Day of Judgment!')\n",
      "('1:5', 'Thee alone do we worship; and unto Thee alone do we turn for aid.')\n"
     ]
    }
   ],
   "source": [
    "import requests\n",
    "\n",
    "# Muhammad Asad translation, (surah) number followed by the verse (ayah) number.\n",
    "def get_all_verses_in_english():\n",
    "    base_url = 'http://api.alquran.cloud/v1/surah/{}/en.asad'\n",
    "    verses = []\n",
    "    \n",
    "    for surah_number in range(1, 115):  # Surahs are numbered from 1 to 114\n",
    "        url = base_url.format(surah_number)\n",
    "        response = requests.get(url)\n",
    "        \n",
    "        if response.status_code != 200:\n",
    "            print(f\"Failed to retrieve Surah {surah_number}\")\n",
    "            continue\n",
    "        \n",
    "        data = response.json()\n",
    "        for ayah in data['data']['ayahs']:\n",
    "            ayah_number = ayah['numberInSurah']\n",
    "            verse_id = f\"{surah_number}:{ayah_number}\"\n",
    "            text_content = ayah['text']\n",
    "            verses.append((verse_id, text_content))\n",
    "    return verses\n",
    "\n",
    "# Example usage:\n",
    "verses = get_all_verses_in_english()\n",
    "for verse in verses[:5]:  # Print the first 5 verses\n",
    "    print(verse)\n"
   ]
  },
  {
   "cell_type": "code",
   "execution_count": 66,
   "metadata": {},
   "outputs": [
    {
     "name": "stdout",
     "output_type": "stream",
     "text": [
      "Printing 5 random verses:\n",
      "Verse 38:13:\n",
      "and [the tribe of] Thamud, and the people of Lot, and the dwellers of the wooded dales [of Madyan]: they all were leagued together, [as it were, in their unbelief:]\n",
      "---\n",
      "Verse 79:37:\n",
      "For, unto him who shall have transgressed the bounds of what is right,\n",
      "---\n",
      "Verse 24:13:\n",
      "why do they not [demand of the accusers that they] their allegation? for, if they do not produce such wit­nesses, it is those [accusers] who, in the sight of God, are liars indeed!\n",
      "---\n",
      "Verse 40:63:\n",
      "[For] thus it is: perverted are the minds of those who knowingly reject God’s messages.\n",
      "---\n",
      "Verse 13:7:\n",
      "However, they who are bent on denying the truth [refuse to believe and] say, \"Why has no miraculous sign ever been bestowed on him from on high by his Sustainer?\" [But] thou art only a warmer; and [in God] all people have a guide.\n",
      "---\n"
     ]
    }
   ],
   "source": [
    "import random\n",
    "\n",
    "def print_random_verses(verses, num_verses=5):\n",
    "    \"\"\"\n",
    "    Print a specified number of random verses from the list of verses.\n",
    "    \n",
    "    :param verses: List of tuples containing (verse_id, verse_text)\n",
    "    :param num_verses: Number of random verses to print (default: 5)\n",
    "    \"\"\"\n",
    "    selected_verses = random.sample(verses, min(num_verses, len(verses)))\n",
    "    \n",
    "    print(f'Printing {num_verses} random verses:')\n",
    "    for verse_id, verse_text in selected_verses:\n",
    "        print(f'Verse {verse_id}:')\n",
    "        print(verse_text)\n",
    "        print('---')\n",
    "\n",
    "# Print 5 random verses\n",
    "print_random_verses(verses)\n"
   ]
  },
  {
   "cell_type": "code",
   "execution_count": 68,
   "metadata": {},
   "outputs": [
    {
     "name": "stdout",
     "output_type": "stream",
     "text": [
      "Pinecone API key: 88884...7aa7d\n"
     ]
    },
    {
     "ename": "AttributeError",
     "evalue": "init is no longer a top-level attribute of the pinecone package.\n\nPlease create an instance of the Pinecone class instead.\n\nExample:\n\n    import os\n    from pinecone import Pinecone, ServerlessSpec\n\n    pc = Pinecone(\n        api_key=os.environ.get(\"PINECONE_API_KEY\")\n    )\n\n    # Now do stuff\n    if 'my_index' not in pc.list_indexes().names():\n        pc.create_index(\n            name='my_index', \n            dimension=1536, \n            metric='euclidean',\n            spec=ServerlessSpec(\n                cloud='aws',\n                region='us-west-2'\n            )\n        )\n\n",
     "output_type": "error",
     "traceback": [
      "\u001b[0;31m---------------------------------------------------------------------------\u001b[0m",
      "\u001b[0;31mAttributeError\u001b[0m                            Traceback (most recent call last)",
      "Cell \u001b[0;32mIn[68], line 10\u001b[0m\n\u001b[1;32m      7\u001b[0m \u001b[38;5;28mprint\u001b[39m(\u001b[38;5;124mf\u001b[39m\u001b[38;5;124m'\u001b[39m\u001b[38;5;124mPinecone API key: \u001b[39m\u001b[38;5;132;01m{\u001b[39;00mpinecone_api_key[:\u001b[38;5;241m5\u001b[39m]\u001b[38;5;132;01m}\u001b[39;00m\u001b[38;5;124m...\u001b[39m\u001b[38;5;132;01m{\u001b[39;00mpinecone_api_key[\u001b[38;5;241m-\u001b[39m\u001b[38;5;241m5\u001b[39m:]\u001b[38;5;132;01m}\u001b[39;00m\u001b[38;5;124m'\u001b[39m)\n\u001b[1;32m      9\u001b[0m \u001b[38;5;66;03m# Initialize Pinecone (replace with your actual API key and environment)\u001b[39;00m\n\u001b[0;32m---> 10\u001b[0m \u001b[43mpinecone\u001b[49m\u001b[38;5;241;43m.\u001b[39;49m\u001b[43minit\u001b[49m\u001b[43m(\u001b[49m\u001b[43mapi_key\u001b[49m\u001b[38;5;241;43m=\u001b[39;49m\u001b[38;5;124;43m'\u001b[39;49m\u001b[38;5;124;43mYOUR_PINECONE_API_KEY\u001b[39;49m\u001b[38;5;124;43m'\u001b[39;49m\u001b[43m,\u001b[49m\u001b[43m \u001b[49m\u001b[43menvironment\u001b[49m\u001b[38;5;241;43m=\u001b[39;49m\u001b[38;5;124;43m'\u001b[39;49m\u001b[38;5;124;43mYOUR_PINECONE_ENVIRONMENT\u001b[39;49m\u001b[38;5;124;43m'\u001b[39;49m\u001b[43m)\u001b[49m\n\u001b[1;32m     11\u001b[0m index_name \u001b[38;5;241m=\u001b[39m \u001b[38;5;124m'\u001b[39m\u001b[38;5;124mreligious_texts\u001b[39m\u001b[38;5;124m'\u001b[39m\n\u001b[1;32m     13\u001b[0m \u001b[38;5;66;03m# Create index if it doesn't exist\u001b[39;00m\n",
      "File \u001b[0;32m~/Projects/B2Soul/notebooks/venv/lib/python3.11/site-packages/pinecone/deprecation_warnings.py:39\u001b[0m, in \u001b[0;36minit\u001b[0;34m(*args, **kwargs)\u001b[0m\n\u001b[1;32m     12\u001b[0m     example \u001b[38;5;241m=\u001b[39m \u001b[38;5;124m\"\"\"\u001b[39m\n\u001b[1;32m     13\u001b[0m \u001b[38;5;124m    import os\u001b[39m\n\u001b[1;32m     14\u001b[0m \u001b[38;5;124m    from pinecone import Pinecone, ServerlessSpec\u001b[39m\n\u001b[0;32m   (...)\u001b[0m\n\u001b[1;32m     30\u001b[0m \u001b[38;5;124m        )\u001b[39m\n\u001b[1;32m     31\u001b[0m \u001b[38;5;124m\"\"\"\u001b[39m\n\u001b[1;32m     32\u001b[0m     msg \u001b[38;5;241m=\u001b[39m \u001b[38;5;124mf\u001b[39m\u001b[38;5;124m\"\"\"\u001b[39m\u001b[38;5;124minit is no longer a top-level attribute of the pinecone package.\u001b[39m\n\u001b[1;32m     33\u001b[0m \n\u001b[1;32m     34\u001b[0m \u001b[38;5;124mPlease create an instance of the Pinecone class instead.\u001b[39m\n\u001b[0;32m   (...)\u001b[0m\n\u001b[1;32m     37\u001b[0m \u001b[38;5;132;01m{\u001b[39;00mexample\u001b[38;5;132;01m}\u001b[39;00m\n\u001b[1;32m     38\u001b[0m \u001b[38;5;124m\"\"\"\u001b[39m\n\u001b[0;32m---> 39\u001b[0m     \u001b[38;5;28;01mraise\u001b[39;00m \u001b[38;5;167;01mAttributeError\u001b[39;00m(msg)\n",
      "\u001b[0;31mAttributeError\u001b[0m: init is no longer a top-level attribute of the pinecone package.\n\nPlease create an instance of the Pinecone class instead.\n\nExample:\n\n    import os\n    from pinecone import Pinecone, ServerlessSpec\n\n    pc = Pinecone(\n        api_key=os.environ.get(\"PINECONE_API_KEY\")\n    )\n\n    # Now do stuff\n    if 'my_index' not in pc.list_indexes().names():\n        pc.create_index(\n            name='my_index', \n            dimension=1536, \n            metric='euclidean',\n            spec=ServerlessSpec(\n                cloud='aws',\n                region='us-west-2'\n            )\n        )\n\n"
     ]
    }
   ],
   "source": [
    "# Get Pinecone API key from environment variable\n",
    "PINECONE_API_KEY = os.environ.get('PINECONE_API_KEY')\n",
    "\n",
    "if not PINECONE_API_KEY:\n",
    "    raise ValueError('PINECONE_API_KEY environment variable is not set')\n",
    "\n",
    "print(f'Pinecone API key: {PINECONE_API_KEY[:5]}...{PINECONE_API_KEY[-5:]}')\n",
    "\n",
    "# Initialize Pinecone\n",
    "from pinecone import Pinecone\n",
    "\n",
    "pc = Pinecone(api_key=PINECONE_API_KEY)\n",
    "\n",
    "index_name = 'religious_texts'\n",
    "\n",
    "# Create index if it doesn't exist\n",
    "if index_name not in pinecone.list_indexes():\n",
    "    pinecone.create_index(index_name, dimension=384)  # Adjust dimension based on your embedding model\n",
    "\n",
    "# Connect to the index\n",
    "index = pinecone.Index(index_name)\n",
    "\n",
    "# Initialize the embedding model\n",
    "model = SentenceTransformer('all-MiniLM-L6-v2')\n",
    "\n",
    "# Prepare and store data\n",
    "for source, text in [('Bible', bible_text), ('Buddhist', buddhist_text), ('Muslim', muslim_text)]:\n",
    "    chunks = chunk_text(text)\n",
    "    for i, chunk in enumerate(chunks):\n",
    "        # Create embedding\n",
    "        embedding = model.encode(chunk).tolist()\n",
    "\n",
    "        # Prepare metadata\n",
    "        metadata = {\n",
    "            'source': source,\n",
    "            'chunk_id': i\n",
    "        }\n",
    "\n",
    "        # Upsert to Pinecone\n",
    "        index.upsert(vectors=[(f'{source}_{i}', embedding, metadata)])\n",
    "\n",
    "print('Sacred texts have been retrieved, chunked, and stored in the Pinecone database.')\n",
    "\n"
   ]
  },
  {
   "cell_type": "code",
   "execution_count": null,
   "metadata": {},
   "outputs": [],
   "source": []
  },
  {
   "cell_type": "code",
   "execution_count": null,
   "metadata": {},
   "outputs": [],
   "source": []
  },
  {
   "cell_type": "code",
   "execution_count": null,
   "metadata": {},
   "outputs": [],
   "source": []
  },
  {
   "cell_type": "code",
   "execution_count": null,
   "metadata": {},
   "outputs": [],
   "source": []
  },
  {
   "cell_type": "code",
   "execution_count": null,
   "metadata": {},
   "outputs": [],
   "source": []
  },
  {
   "cell_type": "code",
   "execution_count": null,
   "metadata": {},
   "outputs": [],
   "source": []
  },
  {
   "cell_type": "code",
   "execution_count": null,
   "metadata": {},
   "outputs": [],
   "source": []
  },
  {
   "cell_type": "code",
   "execution_count": null,
   "metadata": {},
   "outputs": [],
   "source": []
  },
  {
   "cell_type": "code",
   "execution_count": null,
   "metadata": {},
   "outputs": [],
   "source": []
  },
  {
   "cell_type": "code",
   "execution_count": null,
   "metadata": {},
   "outputs": [],
   "source": []
  }
 ],
 "metadata": {
  "kernelspec": {
   "display_name": "Python 3 (ipykernel)",
   "language": "python",
   "name": "python3"
  },
  "language_info": {
   "codemirror_mode": {
    "name": "ipython",
    "version": 3
   },
   "file_extension": ".py",
   "mimetype": "text/x-python",
   "name": "python",
   "nbconvert_exporter": "python",
   "pygments_lexer": "ipython3",
   "version": "3.11.2"
  }
 },
 "nbformat": 4,
 "nbformat_minor": 2
}
