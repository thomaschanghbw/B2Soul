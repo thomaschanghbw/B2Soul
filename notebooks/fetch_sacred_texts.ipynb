{
 "cells": [
  {
   "cell_type": "code",
   "execution_count": 22,
   "metadata": {},
   "outputs": [],
   "source": [
    "import requests\n",
    "from bs4 import BeautifulSoup\n",
    "import pinecone\n",
    "from sentence_transformers import SentenceTransformer\n",
    "from dotenv import load_dotenv\n",
    "import os\n",
    "\n",
    "load_dotenv() \n",
    "\n",
    "def fetch_text(url):\n",
    "    response = requests.get(url)\n",
    "    soup = BeautifulSoup(response.text, 'html.parser')\n",
    "    return soup.get_text()\n",
    "\n",
    "def chunk_text(text):\n",
    "    return text.split('\\n')"
   ]
  },
  {
   "cell_type": "code",
   "execution_count": 28,
   "metadata": {},
   "outputs": [
    {
     "name": "stdout",
     "output_type": "stream",
     "text": [
      "Bible text length: 4606957 characters\n",
      "Number of Bible chunks: 31105\n",
      "Sample Bible chunks:\n",
      "- Genesis 1:1\tIn the beginning God created the heaven and the earth.\n",
      "- Genesis 1:2\tAnd the earth was without form, and void; and darkness [was] upon the face of the deep. And the Spirit of God moved upon the face of the waters.\n",
      "- Genesis 1:3\tAnd God said, Let there be light: and there was light.\n"
     ]
    }
   ],
   "source": [
    "def get_bible_verses():\n",
    "    bible_url = 'https://openbible.com/textfiles/kjv.txt'\n",
    "    bible_text = fetch_text(bible_url)\n",
    "    print(f'Bible text length: {len(bible_text)} characters')\n",
    "    bible_chunks = chunk_text(bible_text)\n",
    "    print(f'Number of Bible chunks: {len(bible_chunks)}')\n",
    "    print(f'Sample Bible chunks:')\n",
    "    for chunk in bible_chunks[2:5]:\n",
    "        print(f'- {chunk}')\n",
    "    return bible_chunks[2:]\n",
    "\n",
    "bible_chunks = get_bible_verses()"
   ]
  },
  {
   "cell_type": "code",
   "execution_count": 16,
   "metadata": {},
   "outputs": [],
   "source": [
    "def get_buddhist():\n",
    "    buddhist_url = 'https://www.sacred-texts.com/bud/sbe10/sbe1000.htm'\n",
    "    buddhist_text = fetch_text(buddhist_url)\n",
    "    print(f'Buddhist text length: {len(buddhist_text)} characters')\n",
    "    buddhist_chunks = chunk_text(buddhist_text)\n",
    "    print(f'Number of Buddhist chunks: {len(buddhist_chunks)}')\n",
    "    print(f'Sample Buddhist chunk: {buddhist_chunks[0]}')\n",
    "    return buddhist_text, buddhist_chunks\n",
    "    "
   ]
  },
  {
   "cell_type": "code",
   "execution_count": null,
   "metadata": {},
   "outputs": [],
   "source": [
    "def get_muslim():\n",
    "    muslim_url = 'https://www.sacred-texts.com/isl/quran.htm'\n",
    "    muslim_text = fetch_text(muslim_url)\n",
    "    print(f'Muslim text length: {len(muslim_text)} characters')\n",
    "    muslim_chunks = chunk_text(muslim_text)\n",
    "    print(f'Number of Muslim chunks: {len(muslim_chunks)}')\n",
    "    print(f'Sample Muslim chunk: {muslim_chunks[0]}')\n",
    "    return muslim_text, muslim_chunks"
   ]
  },
  {
   "cell_type": "code",
   "execution_count": 11,
   "metadata": {},
   "outputs": [
    {
     "name": "stdout",
     "output_type": "stream",
     "text": [
      "Pinecone API key: 88884...7aa7d\n"
     ]
    },
    {
     "ename": "NameError",
     "evalue": "name 'pinecone' is not defined",
     "output_type": "error",
     "traceback": [
      "\u001b[0;31m---------------------------------------------------------------------------\u001b[0m",
      "\u001b[0;31mNameError\u001b[0m                                 Traceback (most recent call last)",
      "Cell \u001b[0;32mIn[11], line 11\u001b[0m\n\u001b[1;32m      7\u001b[0m \u001b[38;5;28mprint\u001b[39m(\u001b[38;5;124mf\u001b[39m\u001b[38;5;124m'\u001b[39m\u001b[38;5;124mPinecone API key: \u001b[39m\u001b[38;5;132;01m{\u001b[39;00mpinecone_api_key[:\u001b[38;5;241m5\u001b[39m]\u001b[38;5;132;01m}\u001b[39;00m\u001b[38;5;124m...\u001b[39m\u001b[38;5;132;01m{\u001b[39;00mpinecone_api_key[\u001b[38;5;241m-\u001b[39m\u001b[38;5;241m5\u001b[39m:]\u001b[38;5;132;01m}\u001b[39;00m\u001b[38;5;124m'\u001b[39m)\n\u001b[1;32m     10\u001b[0m \u001b[38;5;66;03m# Initialize Pinecone (replace with your actual API key and environment)\u001b[39;00m\n\u001b[0;32m---> 11\u001b[0m \u001b[43mpinecone\u001b[49m\u001b[38;5;241m.\u001b[39minit(api_key\u001b[38;5;241m=\u001b[39m\u001b[38;5;124m'\u001b[39m\u001b[38;5;124mYOUR_PINECONE_API_KEY\u001b[39m\u001b[38;5;124m'\u001b[39m, environment\u001b[38;5;241m=\u001b[39m\u001b[38;5;124m'\u001b[39m\u001b[38;5;124mYOUR_PINECONE_ENVIRONMENT\u001b[39m\u001b[38;5;124m'\u001b[39m)\n\u001b[1;32m     12\u001b[0m index_name \u001b[38;5;241m=\u001b[39m \u001b[38;5;124m'\u001b[39m\u001b[38;5;124mreligious_texts\u001b[39m\u001b[38;5;124m'\u001b[39m\n\u001b[1;32m     14\u001b[0m \u001b[38;5;66;03m# Create index if it doesn't exist\u001b[39;00m\n",
      "\u001b[0;31mNameError\u001b[0m: name 'pinecone' is not defined"
     ]
    }
   ],
   "source": [
    "\n",
    "# Get Pinecone API key from environment variable\n",
    "pinecone_api_key = os.environ.get('PINECONE_API_KEY')\n",
    "\n",
    "if not pinecone_api_key:\n",
    "    raise ValueError('PINECONE_API_KEY environment variable is not set')\n",
    "\n",
    "print(f'Pinecone API key: {pinecone_api_key[:5]}...{pinecone_api_key[-5:]}')\n",
    "\n",
    "\n",
    "# Initialize Pinecone (replace with your actual API key and environment)\n",
    "pinecone.init(api_key='YOUR_PINECONE_API_KEY', environment='YOUR_PINECONE_ENVIRONMENT')\n",
    "index_name = 'religious_texts'\n",
    "\n",
    "# Create index if it doesn't exist\n",
    "if index_name not in pinecone.list_indexes():\n",
    "    pinecone.create_index(index_name, dimension=384)  # Adjust dimension based on your embedding model\n",
    "\n",
    "# Connect to the index\n",
    "index = pinecone.Index(index_name)\n",
    "\n",
    "# Initialize the embedding model\n",
    "model = SentenceTransformer('all-MiniLM-L6-v2')\n",
    "\n",
    "# Prepare and store data\n",
    "for source, text in [('Bible', bible_text), ('Buddhist', buddhist_text), ('Muslim', muslim_text)]:\n",
    "    chunks = chunk_text(text)\n",
    "    for i, chunk in enumerate(chunks):\n",
    "        # Create embedding\n",
    "        embedding = model.encode(chunk).tolist()\n",
    "\n",
    "        # Prepare metadata\n",
    "        metadata = {\n",
    "            'source': source,\n",
    "            'chunk_id': i\n",
    "        }\n",
    "\n",
    "        # Upsert to Pinecone\n",
    "        index.upsert(vectors=[(f'{source}_{i}', embedding, metadata)])\n",
    "\n",
    "print('Sacred texts have been retrieved, chunked, and stored in the Pinecone database.')\n",
    "\n"
   ]
  },
  {
   "cell_type": "code",
   "execution_count": null,
   "metadata": {},
   "outputs": [],
   "source": []
  },
  {
   "cell_type": "code",
   "execution_count": null,
   "metadata": {},
   "outputs": [],
   "source": []
  },
  {
   "cell_type": "code",
   "execution_count": null,
   "metadata": {},
   "outputs": [],
   "source": []
  },
  {
   "cell_type": "code",
   "execution_count": null,
   "metadata": {},
   "outputs": [],
   "source": []
  },
  {
   "cell_type": "code",
   "execution_count": null,
   "metadata": {},
   "outputs": [],
   "source": []
  },
  {
   "cell_type": "code",
   "execution_count": null,
   "metadata": {},
   "outputs": [],
   "source": []
  },
  {
   "cell_type": "code",
   "execution_count": null,
   "metadata": {},
   "outputs": [],
   "source": []
  },
  {
   "cell_type": "code",
   "execution_count": null,
   "metadata": {},
   "outputs": [],
   "source": []
  },
  {
   "cell_type": "code",
   "execution_count": null,
   "metadata": {},
   "outputs": [],
   "source": []
  },
  {
   "cell_type": "code",
   "execution_count": null,
   "metadata": {},
   "outputs": [],
   "source": []
  }
 ],
 "metadata": {
  "kernelspec": {
   "display_name": "Python 3 (ipykernel)",
   "language": "python",
   "name": "python3"
  },
  "language_info": {
   "codemirror_mode": {
    "name": "ipython",
    "version": 3
   },
   "file_extension": ".py",
   "mimetype": "text/x-python",
   "name": "python",
   "nbconvert_exporter": "python",
   "pygments_lexer": "ipython3",
   "version": "3.11.2"
  }
 },
 "nbformat": 4,
 "nbformat_minor": 2
}
