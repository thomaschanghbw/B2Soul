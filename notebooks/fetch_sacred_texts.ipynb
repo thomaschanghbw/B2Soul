{
 "cells": [
  {
   "cell_type": "code",
   "execution_count": 73,
   "metadata": {},
   "outputs": [],
   "source": [
    "import requests\n",
    "from bs4 import BeautifulSoup\n",
    "from dotenv import load_dotenv\n",
    "\n",
    "load_dotenv() \n",
    "\n",
    "def fetch_text(url):\n",
    "    response = requests.get(url)\n",
    "    soup = BeautifulSoup(response.text, 'html.parser')\n",
    "    return soup.get_text()\n",
    "\n",
    "def chunk_text(text):\n",
    "    return text.split('\\n')"
   ]
  },
  {
   "cell_type": "code",
   "execution_count": null,
   "metadata": {},
   "outputs": [],
   "source": [
    "from openai import OpenAI\n",
    "import os\n",
    "\n",
    "# Set up OpenAI API key\n",
    "client = OpenAI(api_key=os.getenv(\"OPENAI_API_KEY\"))\n",
    "\n",
    "def generate_embedding(text):\n",
    "    embeddings = []\n",
    "    try:\n",
    "        response = client.embeddings.create(\n",
    "            model=\"text-embedding-3-large\",\n",
    "            input=text\n",
    "        )\n",
    "        \n",
    "        embedding = response.data[0].embedding\n",
    "        embeddings.append(embedding)\n",
    "    except Exception as e:\n",
    "        print(f\"Error generating embedding for text: {text}. Error: {str(e)}\")\n",
    "    \n",
    "    return embeddings\n",
    "\n",
    "generate_embedding(\"Hello world\")"
   ]
  },
  {
   "cell_type": "code",
   "execution_count": 91,
   "metadata": {},
   "outputs": [],
   "source": [
    "import random\n",
    "\n",
    "def print_random_verses(verses, num_verses=5):\n",
    "    \"\"\"\n",
    "    Print a specified number of random verses from the list of verses.\n",
    "    \n",
    "    :param verses: List of tuples containing (verse_id, verse_text)\n",
    "    :param num_verses: Number of random verses to print (default: 5)\n",
    "    \"\"\"\n",
    "    selected_verses = random.sample(verses, min(num_verses, len(verses)))\n",
    "    \n",
    "    print(f'Printing {num_verses} random verses:')\n",
    "    for verse_id, verse_text in selected_verses:\n",
    "        print(f'{verse_id}:')\n",
    "        print(verse_text)\n",
    "        print('---')"
   ]
  },
  {
   "cell_type": "markdown",
   "metadata": {},
   "source": [
    "# Christianity"
   ]
  },
  {
   "cell_type": "code",
   "execution_count": 92,
   "metadata": {},
   "outputs": [
    {
     "name": "stdout",
     "output_type": "stream",
     "text": [
      "Bible text length: 4606957 characters\n",
      "Number of Bible chunks: 31105\n",
      "Printing 5 random verses:\n",
      "Joshua 18:15:\n",
      "And the south quarter [was] from the end of Kirjathjearim, and the border went out on the west, and went out to the well of waters of Nephtoah:\n",
      "---\n",
      "Genesis 26:11:\n",
      "And Abimelech charged all [his] people, saying, He that toucheth this man or his wife shall surely be put to death.\n",
      "---\n",
      "2 Samuel 8:18:\n",
      "And Benaiah the son of Jehoiada [was over] both the Cherethites and the Pelethites; and Davidâs sons were chief rulers.\n",
      "---\n",
      "Exodus 6:17:\n",
      "The sons of Gershon; Libni, and Shimi, according to their families.\n",
      "---\n",
      "Judges 9:6:\n",
      "And all the men of Shechem gathered together, and all the house of Millo, and went, and made Abimelech king, by the plain of the pillar that [was] in Shechem.\n",
      "---\n"
     ]
    }
   ],
   "source": [
    "import random\n",
    "\n",
    "def get_bible_verses():\n",
    "    bible_url = 'https://openbible.com/textfiles/kjv.txt'\n",
    "    bible_text = fetch_text(bible_url)\n",
    "    print(f'Bible text length: {len(bible_text)} characters')\n",
    "    bible_chunks = chunk_text(bible_text)\n",
    "    print(f'Number of Bible chunks: {len(bible_chunks)}')\n",
    "    \n",
    "    parsed_verses = []\n",
    "    for chunk in bible_chunks[2:]:  # Skip the first two lines\n",
    "        parts = chunk.split('\\t', 1)\n",
    "        if len(parts) == 2:\n",
    "            verse, text = parts\n",
    "            parsed_verses.append((verse.strip(), text.strip()))\n",
    "    \n",
    "    return parsed_verses\n",
    "\n",
    "bible_verses = get_bible_verses()\n",
    "\n",
    "print_random_verses(bible_verses)\n"
   ]
  },
  {
   "cell_type": "code",
   "execution_count": 93,
   "metadata": {},
   "outputs": [
    {
     "name": "stdout",
     "output_type": "stream",
     "text": [
      "Verses saved to bible.json\n"
     ]
    }
   ],
   "source": [
    "import json\n",
    "\n",
    "def save_verses_to_json(verses, filename='bible.json'):\n",
    "    \"\"\"\n",
    "    Save the verses to a JSON file.\n",
    "    \n",
    "    :param verses: List of tuples containing (verse_id, verse_text)\n",
    "    :param filename: Name of the JSON file to save the verses (default: 'bible.json')\n",
    "    \"\"\"\n",
    "    verses_dict = [{\"verse_id\": verse_id, \"verse_text\": verse_text} for verse_id, verse_text in verses]\n",
    "    \n",
    "    with open(filename, 'w', encoding='utf-8') as f:\n",
    "        json.dump(verses_dict, f, ensure_ascii=False, indent=4)\n",
    "    \n",
    "    print(f'Verses saved to {filename}')\n",
    "\n",
    "# Save the Bible verses to a JSON file\n",
    "save_verses_to_json(bible_verses)\n"
   ]
  },
  {
   "cell_type": "markdown",
   "metadata": {},
   "source": [
    "# Islam "
   ]
  },
  {
   "cell_type": "code",
   "execution_count": 95,
   "metadata": {},
   "outputs": [
    {
     "name": "stdout",
     "output_type": "stream",
     "text": [
      "{'code': 200, 'status': 'OK', 'data': {'number': 1, 'name': 'سُورَةُ ٱلْفَاتِحَةِ', 'englishName': 'Al-Faatiha', 'englishNameTranslation': 'The Opening', 'revelationType': 'Meccan', 'numberOfAyahs': 7, 'ayahs': [{'number': 1, 'text': 'In the name of God, The Most Gracious, The Dispenser of Grace:', 'numberInSurah': 1, 'juz': 1, 'manzil': 1, 'page': 1, 'ruku': 1, 'hizbQuarter': 1, 'sajda': False}, {'number': 2, 'text': 'All praise is due to God alone, the Sustainer of all the worlds,', 'numberInSurah': 2, 'juz': 1, 'manzil': 1, 'page': 1, 'ruku': 1, 'hizbQuarter': 1, 'sajda': False}, {'number': 3, 'text': 'The Most Gracious, the Dispenser of Grace,', 'numberInSurah': 3, 'juz': 1, 'manzil': 1, 'page': 1, 'ruku': 1, 'hizbQuarter': 1, 'sajda': False}, {'number': 4, 'text': 'Lord of the Day of Judgment!', 'numberInSurah': 4, 'juz': 1, 'manzil': 1, 'page': 1, 'ruku': 1, 'hizbQuarter': 1, 'sajda': False}, {'number': 5, 'text': 'Thee alone do we worship; and unto Thee alone do we turn for aid.', 'numberInSurah': 5, 'juz': 1, 'manzil': 1, 'page': 1, 'ruku': 1, 'hizbQuarter': 1, 'sajda': False}, {'number': 6, 'text': 'Guide us the straight way.', 'numberInSurah': 6, 'juz': 1, 'manzil': 1, 'page': 1, 'ruku': 1, 'hizbQuarter': 1, 'sajda': False}, {'number': 7, 'text': 'The way of those upon whom Thou hast bestowed Thy blessings, not of those who have been condemned [by Thee], nor of those who go astray!', 'numberInSurah': 7, 'juz': 1, 'manzil': 1, 'page': 1, 'ruku': 1, 'hizbQuarter': 1, 'sajda': False}], 'edition': {'identifier': 'en.asad', 'language': 'en', 'name': 'Asad', 'englishName': 'Muhammad Asad', 'format': 'text', 'type': 'translation', 'direction': 'ltr'}}}\n",
      "Printing 5 random verses:\n",
      "89:24:\n",
      "He will say, \"Oh, would that I had. provided beforehand for my life [to come]!\"\n",
      "---\n",
      "15:34:\n",
      "Said He: \"Go forth, then, from this [angelic state]: for, behold, thou art [henceforth] accursed,\n",
      "---\n",
      "8:75:\n",
      "And as for those who henceforth come to believe, and who forsake the domain of evil and strive hard [in God's cause] together with you - these [too] shall belong to you; and they who are [thus] closely related have the highest claim on one another in [accordance with] God's decree. Verily, God has full knowledge of everything.\n",
      "---\n",
      "4:129:\n",
      "And it will not be within your power to treat your wives with equal fairness, however much you may desire it; and so, do not allow yourselves to incline towards one to the exclusion of the other, leaving her in a state, as it were, of having and not having a husband. But if you put things to rights and are conscious of Him - behold, God is indeed much-forgiving, a dispenser of grace.\n",
      "---\n",
      "20:46:\n",
      "Answered He: \"Fear not! Verily, I shall be with you two, hearing and seeing [all].\n",
      "---\n"
     ]
    }
   ],
   "source": [
    "import requests\n",
    "\n",
    "# Muhammad Asad translation, (surah) number followed by the verse (ayah) number.\n",
    "def get_all_verses_in_english():\n",
    "    base_url = 'http://api.alquran.cloud/v1/surah/{}/en.asad'\n",
    "    verses = []\n",
    "    \n",
    "    for surah_number in range(1, 115):  # Surahs are numbered from 1 to 114\n",
    "        url = base_url.format(surah_number)\n",
    "        response = requests.get(url)\n",
    "        \n",
    "        if response.status_code != 200:\n",
    "            print(f\"Failed to retrieve Surah {surah_number}\")\n",
    "            continue\n",
    "        \n",
    "        data = response.json()\n",
    "        if surah_number == 1:\n",
    "            print(data)\n",
    "        for ayah in data['data']['ayahs']:\n",
    "            ayah_number = ayah['numberInSurah']\n",
    "            verse_id = f\"{surah_number}:{ayah_number}\"\n",
    "            text_content = ayah['text']\n",
    "            verses.append((verse_id, text_content))\n",
    "    return verses\n",
    "\n",
    "islamic_verses = get_all_verses_in_english()\n",
    "\n",
    "print_random_verses(islamic_verses)"
   ]
  },
  {
   "cell_type": "code",
   "execution_count": 96,
   "metadata": {},
   "outputs": [
    {
     "name": "stdout",
     "output_type": "stream",
     "text": [
      "Verses saved to Quran.json\n"
     ]
    }
   ],
   "source": [
    "import json\n",
    "\n",
    "def save_verses_to_json(verses, filename):\n",
    "    verses_dict = [{\"verse_id\": verse_id, \"verse_text\": verse_text} for verse_id, verse_text in verses]\n",
    "    \n",
    "    with open(filename, 'w', encoding='utf-8') as f:\n",
    "        json.dump(verses_dict, f, ensure_ascii=False, indent=4)\n",
    "    \n",
    "    print(f'Verses saved to {filename}')\n",
    "\n",
    "# Save the Islamic verses to a JSON file\n",
    "save_verses_to_json(islamic_verses, 'Quran.json')\n"
   ]
  }
 ],
 "metadata": {
  "kernelspec": {
   "display_name": "Python 3 (ipykernel)",
   "language": "python",
   "name": "python3"
  }
 },
 "nbformat": 4,
 "nbformat_minor": 2
}
